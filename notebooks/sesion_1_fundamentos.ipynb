{
 "cells": [
  {
   "cell_type": "markdown",
   "id": "f95ab875",
   "metadata": {},
   "source": [
    "# Sesión 1 – Fundamentos de proyecto de ML/AI en Python\n",
    "**Fecha:** 2025-05-27\n",
    "\n",
    "---\n",
    "\n",
    "## 🎯 Objetivo de la sesión\n",
    "Capacitar al estudiante en el uso de buenas prácticas de desarrollo en Python para proyectos de Machine Learning o Inteligencia Artificial, con foco en reproducibilidad, mantenibilidad y colaboración.\n"
   ]
  },
  {
   "cell_type": "markdown",
   "id": "6fd85e8d",
   "metadata": {},
   "source": [
    "## 🧱 1. Estructura profesional de un proyecto ML\n",
    "\n",
    "✅ Conceptos clave\n",
    "- Separación de responsabilidades (src/, notebooks/, tests/, config/)\n",
    "- Uso de README.md, pyproject.toml, .env, requirements.txt, .gitignore\n",
    "- Principio: que el proyecto se pueda entender y ejecutar con una sola instrucción\n",
    "\n",
    "\n",
    "\n",
    "📁 Ejemplo visual\n",
    "\n",
    "```bash\n",
    "project/\n",
    "├── notebooks/\n",
    "├── src/\n",
    "│   ├── data/\n",
    "│   ├── models/\n",
    "│   └── utils/\n",
    "├── config/\n",
    "├── tests/\n",
    "├── README.md\n",
    "├── pyproject.toml\n",
    "└── .gitignore\n",
    "```"
   ]
  },
  {
   "cell_type": "code",
   "execution_count": null,
   "id": "bc91d7c9",
   "metadata": {},
   "outputs": [],
   "source": [
    "!cd .. && tree"
   ]
  },
  {
   "cell_type": "markdown",
   "id": "c0e71f86",
   "metadata": {},
   "source": [
    "## ⚙️ 2. Uso de entornos virtuales y gestión de dependencias\n",
    "\n",
    "✅ Herramientas sugeridas\n",
    "- venv y poetry (preferido)\n",
    "- Estructura de pyproject.toml\n",
    "- Ventajas de aislar entornos\n",
    "\n",
    "\n",
    "Desde una terminal, crear un entorno virtual y activar:\n",
    "\n",
    "```bash\n",
    "python -m venv venv\n",
    "source venv/bin/activate  # Linux/Mac\n",
    "```"
   ]
  },
  {
   "cell_type": "code",
   "execution_count": null,
   "id": "89139aed",
   "metadata": {},
   "outputs": [],
   "source": [
    "!python3.10 -m venv venv"
   ]
  },
  {
   "cell_type": "markdown",
   "id": "0ab40a50",
   "metadata": {},
   "source": [
    "Ahora actualizar pip, e instalar Poetry:\n",
    "\n",
    "```bash\n",
    "pip install --upgrade pip\n",
    "pip install poetry\n",
    "```"
   ]
  },
  {
   "cell_type": "code",
   "execution_count": null,
   "id": "b6f44318",
   "metadata": {},
   "outputs": [],
   "source": [
    "!pip install --upgrade pip"
   ]
  },
  {
   "cell_type": "code",
   "execution_count": null,
   "id": "cb101638",
   "metadata": {},
   "outputs": [],
   "source": [
    "!pip install poetry"
   ]
  },
  {
   "cell_type": "markdown",
   "id": "188de45b",
   "metadata": {},
   "source": [
    "### 📦 2.1. Configuración de Poetry\n",
    "```bash\n",
    "poetry init\n",
    "```\n",
    "\n",
    "Esto debería generarnos una salida similar a la siguiente:\n",
    "```bash\n",
    "(.venv) ➜  introduccion_ml git:(main) ✗ poetry init\n",
    "\n",
    "This command will guide you through creating your pyproject.toml config.\n",
    "\n",
    "Package name [introduccion_ml]:  \n",
    "Version [0.1.0]:  \n",
    "Description []:  Requerimientos introduccion ML\n",
    "Author [Harvey Rodriguez <hrodriguezgi@gmail.com>, n to skip]:  \n",
    "License []:  \n",
    "Compatible Python versions [>=3.10]:  \n",
    "\n",
    "Would you like to define your main dependencies interactively? (yes/no) [yes] no\n",
    "Would you like to define your development dependencies interactively? (yes/no) [yes] no\n",
    "Generated file\n",
    "\n",
    "[project]\n",
    "name = \"introduccion-ml\"\n",
    "version = \"0.1.0\"\n",
    "description = \"Requerimientos introduccion ML\"\n",
    "authors = [\n",
    "    {name = \"Harvey Rodriguez\",email = \"hrodriguez@finaipro.com\"}\n",
    "]\n",
    "readme = \"README.md\"\n",
    "requires-python = \">=3.10\"\n",
    "dependencies = [\n",
    "]\n",
    "\n",
    "\n",
    "[build-system]\n",
    "requires = [\"poetry-core>=2.0.0,<3.0.0\"]\n",
    "build-backend = \"poetry.core.masonry.api\"\n",
    "\n",
    "\n",
    "Do you confirm generation? (yes/no) [yes] \n",
    "```"
   ]
  },
  {
   "cell_type": "code",
   "execution_count": null,
   "id": "bd3995ec",
   "metadata": {},
   "outputs": [],
   "source": [
    "!poetry init"
   ]
  },
  {
   "cell_type": "markdown",
   "id": "802abb68",
   "metadata": {},
   "source": [
    "Esto creará un archivo `pyproject.toml` donde se definirán las dependencias del proyecto.\n",
    "\n",
    "Si necesitamos agregar dependencias, podemos hacerlo con el comando:\n",
    "\n",
    "```bash\n",
    "poetry add nombre_paquete\n",
    "```\n",
    "Por ejemplo, para agregar `numpy` y `pandas`:\n",
    "\n",
    "```bash\n",
    "poetry add numpy pandas\n",
    "```"
   ]
  },
  {
   "cell_type": "code",
   "execution_count": null,
   "id": "83a2dfc8",
   "metadata": {},
   "outputs": [],
   "source": [
    "!/Users/hrodriguez/Github/introduccion_ml/.venv/bin/python -m poetry add requests"
   ]
  },
  {
   "cell_type": "markdown",
   "id": "91dc921c",
   "metadata": {},
   "source": [
    "La ejecución del comando anterior actualizará el archivo `pyproject.toml` y generará un archivo `poetry.lock` que contiene las versiones exactas de las dependencias instaladas. Esto permite que otros desarrolladores puedan instalar las mismas versiones de las dependencias al clonar el repositorio y ejecutar `poetry install`."
   ]
  },
  {
   "cell_type": "markdown",
   "id": "7f8e1aee",
   "metadata": {},
   "source": [
    "## 🧼 3. Estilo de código y calidad\n",
    "\n",
    "✅ Herramientas\n",
    "- `black`: formateador\n",
    "- `flake8`: estilo\n",
    "- `mypy`: tipos"
   ]
  },
  {
   "cell_type": "code",
   "execution_count": null,
   "id": "fb09febc",
   "metadata": {},
   "outputs": [],
   "source": [
    "def suma(a, b):\n",
    "    return a + b"
   ]
  },
  {
   "cell_type": "markdown",
   "id": "3da0be40",
   "metadata": {},
   "source": [
    "## 🐞 4. Logging y manejo de errores\n",
    "\n",
    "✅ Conceptos clave\n",
    "- Evitar `print()` en producción\n",
    "- Módulo `logging` y sus niveles\n",
    "- Uso de `try/except` + `logging`"
   ]
  }
 ],
 "metadata": {
  "kernelspec": {
   "display_name": "Python 3",
   "language": "python",
   "name": "python3"
  },
  "language_info": {
   "codemirror_mode": {
    "name": "ipython",
    "version": 3
   },
   "file_extension": ".py",
   "mimetype": "text/x-python",
   "name": "python",
   "nbconvert_exporter": "python",
   "pygments_lexer": "ipython3",
   "version": "3.10.15"
  }
 },
 "nbformat": 4,
 "nbformat_minor": 5
}
