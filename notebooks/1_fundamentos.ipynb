{
 "cells": [
  {
   "cell_type": "markdown",
   "id": "f95ab875",
   "metadata": {},
   "source": [
    "# Fundamentos de proyecto de ML/AI en Python\n",
    "**Fecha:** 2025-05-29\n",
    "\n",
    "---\n",
    "\n",
    "## 🎯 Objetivo de la sesión\n",
    "Capacitar al estudiante en el uso de buenas prácticas de desarrollo en Python para proyectos de Machine Learning o Inteligencia Artificial, con foco en reproducibilidad, mantenibilidad y colaboración."
   ]
  },
  {
   "cell_type": "markdown",
   "id": "6fd85e8d",
   "metadata": {},
   "source": [
    "## 🧱 1. Estructura profesional de un proyecto ML\n",
    "\n",
    "✅ Conceptos clave\n",
    "- Separación de responsabilidades (src/, notebooks/, tests/, config/)\n",
    "- Uso de README.md, pyproject.toml, .env, requirements.txt, .gitignore\n",
    "- Principio: que el proyecto se pueda entender y ejecutar con una sola instrucción\n",
    "\n",
    "\n",
    "\n",
    "📁 Ejemplo visual\n",
    "\n",
    "```bash\n",
    "project/\n",
    "├── notebooks/\n",
    "├── src/\n",
    "│   ├── data/\n",
    "│   ├── models/\n",
    "│   └── utils/\n",
    "├── config/\n",
    "├── tests/\n",
    "├── README.md\n",
    "├── pyproject.toml\n",
    "└── .gitignore\n",
    "```"
   ]
  },
  {
   "cell_type": "code",
   "execution_count": null,
   "id": "bc91d7c9",
   "metadata": {},
   "outputs": [],
   "source": [
    "!cd .. && tree"
   ]
  },
  {
   "cell_type": "markdown",
   "id": "c0e71f86",
   "metadata": {},
   "source": [
    "## ⚙️ 2. Uso de entornos virtuales y gestión de dependencias\n",
    "\n",
    "✅ Herramientas sugeridas\n",
    "- venv y poetry (preferido)\n",
    "- Estructura de pyproject.toml\n",
    "- Ventajas de aislar entornos\n",
    "\n",
    "Detalle de [Entornos Virtuales](2_entornos_virtuales.ipynb)"
   ]
  },
  {
   "cell_type": "markdown",
   "id": "7f8e1aee",
   "metadata": {},
   "source": [
    "## 🧼 3. Estilo de código y calidad\n",
    "\n",
    "✅ Herramientas\n",
    "- `black`: formateador\n",
    "- `flake8`: estilo\n",
    "- `mypy`: tipos"
   ]
  },
  {
   "cell_type": "markdown",
   "id": "3da0be40",
   "metadata": {},
   "source": [
    "## 🐞 4. Logging y manejo de errores\n",
    "\n",
    "✅ Conceptos clave\n",
    "- Evitar `print()` en producción\n",
    "- Módulo `logging` y sus niveles\n",
    "- Uso de `try/except` + `logging`"
   ]
  },
  {
   "cell_type": "code",
   "execution_count": 1,
   "id": "aff9d522",
   "metadata": {},
   "outputs": [],
   "source": [
    "# Ejemplo de uso de Try/Except en Python y registro de errores con logging\n",
    "\n",
    "import logging\n",
    "\n",
    "# Configuración del logging\n",
    "logging.basicConfig(level=logging.ERROR, format=\"%(asctime)s - %(levelname)s - %(message)s\")\n",
    "\n",
    "\n",
    "def divide_numbers(a, b):\n",
    "    try:\n",
    "        result = a / b\n",
    "        return result\n",
    "    except ZeroDivisionError as e:\n",
    "        logging.error(\"Intento de división por cero: %s\", e)\n",
    "        return None\n",
    "    except TypeError as e:\n",
    "        logging.error(\"Tipo de dato incorrecto: %s\", e)\n",
    "        return None"
   ]
  }
 ],
 "metadata": {
  "kernelspec": {
   "display_name": ".venv",
   "language": "python",
   "name": "python3"
  },
  "language_info": {
   "codemirror_mode": {
    "name": "ipython",
    "version": 3
   },
   "file_extension": ".py",
   "mimetype": "text/x-python",
   "name": "python",
   "nbconvert_exporter": "python",
   "pygments_lexer": "ipython3",
   "version": "3.10.17"
  }
 },
 "nbformat": 4,
 "nbformat_minor": 5
}
